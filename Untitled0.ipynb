{
 "metadata": {
  "name": ""
 },
 "nbformat": 3,
 "nbformat_minor": 0,
 "worksheets": [
  {
   "cells": [
    {
     "cell_type": "code",
     "collapsed": false,
     "input": [
      "from tomi.Reconstruction.PET import *"
     ],
     "language": "python",
     "metadata": {},
     "outputs": [
      {
       "output_type": "stream",
       "stream": "stdout",
       "text": [
        "NiftyCore could not be loaded: it will not be possible to reconstruct the PET data. \n"
       ]
      }
     ],
     "prompt_number": 1
    },
    {
     "cell_type": "code",
     "collapsed": false,
     "input": [
      "PET_scan = PET_Dynamic_Scan()"
     ],
     "language": "python",
     "metadata": {},
     "outputs": [],
     "prompt_number": 2
    },
    {
     "cell_type": "code",
     "collapsed": false,
     "input": [
      "PET_scan.load_listmode_file('/homes/3/sp379/space/mMR_data/2013_12_12_pineapple/listmode/PET_ACQ_98_20131212133713-0.l.hdr',10)"
     ],
     "language": "python",
     "metadata": {},
     "outputs": [
      {
       "output_type": "stream",
       "stream": "stdout",
       "text": [
        "- Loading dynamic PET data from listmode file /homes/3/sp379/space/mMR_data/2013_12_12_pineapple/listmode/PET_ACQ_98_20131212133713-0.l.hdr\n",
        "- Detected Siemens Biograph mMR scanner. \n",
        " - Number of packets:   111060060      \n",
        " - Scan duration:       360000 [sec]\n",
        " - Listmode data file:  /homes/3/sp379/space/mMR_data/2013_12_12_pineapple/listmode/PET_ACQ_98_20131212133713-0.l      \n",
        " - Number of time bins: 10      \n",
        " - Time start:          0.000000 [sec]\n",
        " - Time end:            360.000000 [sec]\n"
       ]
      }
     ],
     "prompt_number": 5
    },
    {
     "cell_type": "code",
     "collapsed": false,
     "input": [
      "PET_scan.ilang_model"
     ],
     "language": "python",
     "metadata": {},
     "outputs": [
      {
       "html": [
        "<iframe src=http://127.0.0.1:8001/6484118 width=900 height=500 frameborder=0></iframe>"
       ],
       "metadata": {},
       "output_type": "pyout",
       "prompt_number": 6,
       "text": [
        "<tomi.Reconstruction.PET.PET_ilang.PET_Dynamic_Poisson at 0x2a4c210>"
       ]
      }
     ],
     "prompt_number": 6
    },
    {
     "cell_type": "code",
     "collapsed": false,
     "input": [
      "PET_scan[0].get_uncompressed_measurement()"
     ],
     "language": "python",
     "metadata": {},
     "outputs": [
      {
       "html": [
        "<iframe src=http://127.0.0.1:8001/5713792 width=900 height=500 frameborder=0></iframe>"
       ],
       "metadata": {},
       "output_type": "pyout",
       "prompt_number": 14,
       "text": [
        "<mMR.mMR.UncompressedMeasurement instance at 0x45a7b7a0>"
       ]
      }
     ],
     "prompt_number": 14
    },
    {
     "cell_type": "code",
     "collapsed": false,
     "input": [
      "PET_scan[1].get_uncompressed_measurement()"
     ],
     "language": "python",
     "metadata": {},
     "outputs": [
      {
       "html": [
        "<iframe src=http://127.0.0.1:8001/832090 width=900 height=500 frameborder=0></iframe>"
       ],
       "metadata": {},
       "output_type": "pyout",
       "prompt_number": 17,
       "text": [
        "<mMR.mMR.UncompressedMeasurement instance at 0x45a90200>"
       ]
      }
     ],
     "prompt_number": 17
    },
    {
     "cell_type": "code",
     "collapsed": false,
     "input": [],
     "language": "python",
     "metadata": {},
     "outputs": []
    }
   ],
   "metadata": {}
  }
 ]
}